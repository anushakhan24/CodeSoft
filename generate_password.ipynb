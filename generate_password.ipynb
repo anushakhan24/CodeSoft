{
 "cells": [
  {
   "cell_type": "markdown",
   "id": "efa388e0",
   "metadata": {},
   "source": [
    "# CodSoft Task#3"
   ]
  },
  {
   "cell_type": "markdown",
   "id": "8326cff2",
   "metadata": {},
   "source": [
    "# QUESTION:\n",
    "A password generator is a useful tool that generates strong and\n",
    "\n",
    "random passwords for users. This project aims to create a\n",
    "password generator application using Python, allowing users to\n",
    "\n",
    "specify the length and complexity of the password.\n",
    "\n",
    "User Input: Prompt the user to specify the desired length of the\n",
    "\n",
    "password.\n",
    "\n",
    "Generate Password: Use a combination of random characters to\n",
    "\n",
    "generate a password of the specified length.\n",
    "\n",
    "Display the Password: Print the generated password on the screen."
   ]
  },
  {
   "cell_type": "markdown",
   "id": "6dea9546",
   "metadata": {},
   "source": [
    "# PASSWORD GENERATOR"
   ]
  },
  {
   "cell_type": "code",
   "execution_count": null,
   "id": "4a8bb172",
   "metadata": {},
   "outputs": [],
   "source": [
    "import random\n",
    "import string\n",
    "\n",
    "def generate_password(length=8):\n",
    "    characters = string.ascii_letters + string.digits + string.punctuation\n",
    "    password = ''.join(random.choice(characters) for _ in range(length))\n",
    "    return password\n",
    "\n",
    "# Prompt the user for the desired password length\n",
    "length = int(input(\"Enter the desired length of the password: \"))\n",
    "\n",
    "# Generate the password\n",
    "password = generate_password(length)\n",
    "print(\"Generated Password:\", password)\n"
   ]
  },
  {
   "cell_type": "code",
   "execution_count": null,
   "id": "77095107",
   "metadata": {},
   "outputs": [],
   "source": []
  }
 ],
 "metadata": {
  "kernelspec": {
   "display_name": "Python 3 (ipykernel)",
   "language": "python",
   "name": "python3"
  },
  "language_info": {
   "codemirror_mode": {
    "name": "ipython",
    "version": 3
   },
   "file_extension": ".py",
   "mimetype": "text/x-python",
   "name": "python",
   "nbconvert_exporter": "python",
   "pygments_lexer": "ipython3",
   "version": "3.9.13"
  }
 },
 "nbformat": 4,
 "nbformat_minor": 5
}
