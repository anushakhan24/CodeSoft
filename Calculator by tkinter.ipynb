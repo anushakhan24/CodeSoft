{
 "cells": [
  {
   "cell_type": "markdown",
   "id": "6bf6b9fd",
   "metadata": {},
   "source": [
    "# CodSoft Task#2"
   ]
  },
  {
   "cell_type": "markdown",
   "id": "75a125a4",
   "metadata": {},
   "source": [
    "# QUESTION:\n",
    "Design a simple calculator with basic arithmetic operations.\n",
    "Prompt the user to input two numbers and an operation choice.\n",
    "\n",
    "Perform the calculation and display the result."
   ]
  },
  {
   "cell_type": "markdown",
   "id": "9b08d271",
   "metadata": {},
   "source": [
    "# BY USING TKINTER"
   ]
  },
  {
   "cell_type": "code",
   "execution_count": 9,
   "id": "294c65d8",
   "metadata": {},
   "outputs": [],
   "source": [
    "import tkinter as tk\n",
    "\n",
    "def button_click(number):\n",
    "    current = entry.get()\n",
    "    entry.delete(0, tk.END)\n",
    "    entry.insert(tk.END, current + str(number))\n",
    "\n",
    "def button_clear():\n",
    "    entry.delete(0, tk.END)\n",
    "\n",
    "def button_equal():\n",
    "    expression = entry.get()\n",
    "    try:\n",
    "        result = eval(expression)\n",
    "        entry.delete(0, tk.END)\n",
    "        entry.insert(tk.END, result)\n",
    "    except:\n",
    "        entry.delete(0, tk.END)\n",
    "        entry.insert(tk.END, \"Error\")\n",
    "\n",
    "# Create the main window\n",
    "window = tk.Tk()\n",
    "window.title(\"Simple Calculator\")\n",
    "\n",
    "# Create an entry widget to display the numbers and results\n",
    "entry = tk.Entry(window, width=25, borderwidth=5)\n",
    "entry.grid(row=0, column=0, columnspan=4, padx=10, pady=10)\n",
    "\n",
    "# Create number buttons\n",
    "button_1 = tk.Button(window, text=\"1\", padx=20, pady=10, command=lambda: button_click(1))\n",
    "button_2 = tk.Button(window, text=\"2\", padx=20, pady=10, command=lambda: button_click(2))\n",
    "button_3 = tk.Button(window, text=\"3\", padx=20, pady=10, command=lambda: button_click(3))\n",
    "button_4 = tk.Button(window, text=\"4\", padx=20, pady=10, command=lambda: button_click(4))\n",
    "button_5 = tk.Button(window, text=\"5\", padx=20, pady=10, command=lambda: button_click(5))\n",
    "button_6 = tk.Button(window, text=\"6\", padx=20, pady=10, command=lambda: button_click(6))\n",
    "button_7 = tk.Button(window, text=\"7\", padx=20, pady=10, command=lambda: button_click(7))\n",
    "button_8 = tk.Button(window, text=\"8\", padx=20, pady=10, command=lambda: button_click(8))\n",
    "button_9 = tk.Button(window, text=\"9\", padx=20, pady=10, command=lambda: button_click(9))\n",
    "button_0 = tk.Button(window, text=\"0\", padx=20, pady=10, command=lambda: button_click(0))\n",
    "\n",
    "# Create operation buttons\n",
    "button_add = tk.Button(window, text=\"+\", padx=20, pady=10, command=lambda: button_click(\"+\"))\n",
    "button_subtract = tk.Button(window, text=\"-\", padx=20, pady=10, command=lambda: button_click(\"-\"))\n",
    "button_multiply = tk.Button(window, text=\"*\", padx=20, pady=10, command=lambda: button_click(\"*\"))\n",
    "button_divide = tk.Button(window, text=\"/\", padx=20, pady=10, command=lambda: button_click(\"/\"))\n",
    "button_clear = tk.Button(window, text=\"C\", padx=20, pady=10, command=button_clear)\n",
    "button_equal = tk.Button(window, text=\"=\", padx=20, pady=10, command=button_equal)\n",
    "\n",
    "# Place the buttons on the window using the grid layout manager\n",
    "button_1.grid(row=1, column=0)\n",
    "button_2.grid(row=1, column=1)\n",
    "button_3.grid(row=1, column=2)\n",
    "button_4.grid(row=2, column=0)\n",
    "button_5.grid(row=2, column=1)\n",
    "button_6.grid(row=2, column=2)\n",
    "button_7.grid(row=3, column=0)\n",
    "button_8.grid(row=3, column=1)\n",
    "button_9.grid(row=3, column=2)\n",
    "button_0.grid(row=4, column=0)\n",
    "button_add.grid(row=1, column=3)\n",
    "button_subtract.grid(row=2, column=3)\n",
    "button_multiply.grid(row=3, column=3)\n",
    "button_divide.grid(row=4, column=3)\n",
    "button_clear.grid(row=4, column=1)\n",
    "button_equal.grid(row=4, column=2)\n",
    "\n",
    "# Start the main event loop\n",
    "window.mainloop()\n"
   ]
  },
  {
   "cell_type": "code",
   "execution_count": null,
   "id": "3484a03c",
   "metadata": {},
   "outputs": [],
   "source": []
  }
 ],
 "metadata": {
  "kernelspec": {
   "display_name": "Python 3 (ipykernel)",
   "language": "python",
   "name": "python3"
  },
  "language_info": {
   "codemirror_mode": {
    "name": "ipython",
    "version": 3
   },
   "file_extension": ".py",
   "mimetype": "text/x-python",
   "name": "python",
   "nbconvert_exporter": "python",
   "pygments_lexer": "ipython3",
   "version": "3.9.13"
  }
 },
 "nbformat": 4,
 "nbformat_minor": 5
}
